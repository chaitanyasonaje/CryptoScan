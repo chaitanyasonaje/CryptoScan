{
  "nbformat": 4,
  "nbformat_minor": 0,
  "metadata": {
    "colab": {
      "provenance": []
    },
    "kernelspec": {
      "name": "python3",
      "display_name": "Python 3"
    },
    "language_info": {
      "name": "python"
    }
  },
  "cells": [
    {
      "cell_type": "code",
      "execution_count": 1,
      "metadata": {
        "colab": {
          "base_uri": "https://localhost:8080/"
        },
        "id": "lSORl3Q2DuVL",
        "outputId": "6997ee5f-b5d7-4a3a-d340-33cf421b1b58"
      },
      "outputs": [
        {
          "output_type": "stream",
          "name": "stdout",
          "text": [
            "Feature extraction completed. New dataset saved as crypto_features_dataset.csv\n"
          ]
        }
      ],
      "source": [
        "import pandas as pd\n",
        "import numpy as np\n",
        "import string\n",
        "import math\n",
        "from collections import Counter\n",
        "\n",
        "# Load the dataset\n",
        "file_path = \"/content/cryptography_dataset_enhanced.csv\"  # Update with your actual file path\n",
        "df = pd.read_csv(file_path)\n",
        "\n",
        "# Function to calculate entropy\n",
        "def calculate_entropy(text):\n",
        "    if not text:\n",
        "        return 0\n",
        "    freq = Counter(text)\n",
        "    total_chars = len(text)\n",
        "    entropy = -sum((count / total_chars) * math.log2(count / total_chars) for count in freq.values())\n",
        "    return entropy\n",
        "\n",
        "# Function to determine Hex vs Base64 ratio\n",
        "def hex_base64_ratio(text):\n",
        "    hex_chars = set(string.hexdigits.lower())\n",
        "    base64_chars = set(string.ascii_letters + string.digits + \"+/=\")\n",
        "\n",
        "    hex_count = sum(1 for char in text.lower() if char in hex_chars)\n",
        "    base64_count = sum(1 for char in text if char in base64_chars)\n",
        "\n",
        "    total = len(text) if len(text) > 0 else 1  # Avoid division by zero\n",
        "    return hex_count / total, base64_count / total\n",
        "\n",
        "# Function to compute repetition rate\n",
        "def repetition_rate(text):\n",
        "    if len(text) < 2:\n",
        "        return 0\n",
        "    return sum(text[i] == text[i+1] for i in range(len(text) - 1)) / (len(text) - 1)\n",
        "\n",
        "# Extracting features\n",
        "df_features = pd.DataFrame()\n",
        "df_features[\"Ciphertext\"] = df[\"Ciphertext\"]\n",
        "df_features[\"Ciphertext Length\"] = df[\"Ciphertext\"].apply(len)\n",
        "df_features[\"Entropy\"] = df[\"Ciphertext\"].apply(calculate_entropy)\n",
        "df_features[\"Hex Ratio\"], df_features[\"Base64 Ratio\"] = zip(*df[\"Ciphertext\"].apply(hex_base64_ratio))\n",
        "df_features[\"Repetition Rate\"] = df[\"Ciphertext\"].apply(repetition_rate)\n",
        "df_features[\"Alphabetic Ratio\"] = df[\"Ciphertext\"].apply(lambda x: sum(c.isalpha() for c in x) / len(x) if x else 0)\n",
        "df_features[\"Numeric Ratio\"] = df[\"Ciphertext\"].apply(lambda x: sum(c.isdigit() for c in x) / len(x) if x else 0)\n",
        "\n",
        "# Adding the target label\n",
        "df_features[\"Algorithm\"] = df[\"Algorithm\"]\n",
        "\n",
        "# Save the new dataset\n",
        "output_file_path = \"crypto_features_dataset.csv\"\n",
        "df_features.to_csv(output_file_path, index=False)\n",
        "\n",
        "print(\"Feature extraction completed. New dataset saved as\", output_file_path)\n"
      ]
    }
  ]
}